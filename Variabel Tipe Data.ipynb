{
 "cells": [
  {
   "cell_type": "markdown",
   "id": "ae2bef00",
   "metadata": {},
   "source": [
    "<h1>Variabel Dan Tipe Data</h1><hr>\n",
    "Tipe Data Pada Python adalah:\n",
    "<ol>\n",
    "    <li>Float - (float)</li>\n",
    "    <li>String - (str)</li>\n",
    "    <li>Boolean - (bool)</li>\n",
    "    <li>Integer (int)</li>\n",
    "</ol><hr>\n",
    "<font color=\"blue\"><i>Aturan Penambahan Variabel:</i></font>\n",
    "<ul>\n",
    "    <li>Tidak boleh menggunakan spasi</li>\n",
    "    <li>Bersifat case sensitif => A !=a</li>\n",
    "    <li>Terdiri dari huruf angka dan karakter</li>\n",
    "    <li>Diawali underscore atau huruf</li>\n",
    "    <li>Tidak boleh menggunakan reserved keywoard</li>\n",
    "</ul>    \n"
   ]
  },
  {
   "cell_type": "code",
   "execution_count": null,
   "id": "e3d8dc46",
   "metadata": {},
   "outputs": [],
   "source": []
  },
  {
   "cell_type": "code",
   "execution_count": 3,
   "id": "722ec4d7",
   "metadata": {},
   "outputs": [
    {
     "name": "stdout",
     "output_type": "stream",
     "text": [
      "100\n",
      "50.6\n",
      "1\n",
      "True\n"
     ]
    }
   ],
   "source": [
    "data_integer = 100\n",
    "data_float = 50.6\n",
    "data_string = \"1\"\n",
    "data_boolean = True\n",
    "\n",
    "data_string\n",
    "print(data_integer)\n",
    "print(data_float)\n",
    "print(data_string)\n",
    "print(data_boolean)"
   ]
  },
  {
   "cell_type": "code",
   "execution_count": 5,
   "id": "6fbb731e",
   "metadata": {},
   "outputs": [
    {
     "name": "stdout",
     "output_type": "stream",
     "text": [
      "<class 'int'>\n",
      "<class 'float'>\n",
      "<class 'str'>\n",
      "<class 'bool'>\n"
     ]
    }
   ],
   "source": [
    "print(type(data_integer))\n",
    "print(type(data_float))\n",
    "print(type(data_string))\n",
    "print(type(data_boolean))"
   ]
  },
  {
   "cell_type": "markdown",
   "id": "49aada8f",
   "metadata": {},
   "source": [
    "<h3>Konversi Tipe Data Dari Integer ke (String,Float,Boolean)</h3>"
   ]
  },
  {
   "cell_type": "code",
   "execution_count": 6,
   "id": "0dea8d3b",
   "metadata": {},
   "outputs": [
    {
     "name": "stdout",
     "output_type": "stream",
     "text": [
      "Isi Bilangan 12\n",
      "Isi Bilangan 24\n",
      "24\n"
     ]
    }
   ],
   "source": [
    "bil1 = input(\"Isi Bilangan 1\")\n",
    "bil2 = input(\"Isi Bilangan 2\")\n",
    "hasil = bil1 + bil2\n",
    "print(hasil)"
   ]
  },
  {
   "cell_type": "code",
   "execution_count": 8,
   "id": "cf14ffc2",
   "metadata": {},
   "outputs": [
    {
     "name": "stdout",
     "output_type": "stream",
     "text": [
      "1\n",
      "50\n",
      "1\n",
      "<class 'int'>\n",
      "<class 'int'>\n",
      "<class 'int'>\n"
     ]
    }
   ],
   "source": [
    "string_to_int = int(data_string)\n",
    "float_to_int = int(data_float)\n",
    "bool_to_int = int(data_boolean)\n",
    "\n",
    "print(string_to_int)\n",
    "print(float_to_int)\n",
    "print(bool_to_int)\n",
    "\n",
    "print(type(string_to_int))\n",
    "print(type(float_to_int))\n",
    "print(type(bool_to_int))"
   ]
  },
  {
   "cell_type": "code",
   "execution_count": 15,
   "id": "8256f3d0",
   "metadata": {},
   "outputs": [
    {
     "name": "stdout",
     "output_type": "stream",
     "text": [
      "1.0\n",
      "50.6\n",
      "1.0\n",
      "<class 'float'>\n",
      "<class 'float'>\n",
      "<class 'float'>\n"
     ]
    }
   ],
   "source": [
    "string_to_float = float(data_string)\n",
    "integer_to_float = float(data_float)\n",
    "bool_to_float = float(data_boolean)\n",
    "\n",
    "print(string_to_float)\n",
    "print(integer_to_float)\n",
    "print(bool_to_float)\n",
    "\n",
    "print(type(string_to_float))\n",
    "print(type(integer_to_float))\n",
    "print(type(bool_to_float))"
   ]
  },
  {
   "cell_type": "code",
   "execution_count": 16,
   "id": "c68b6ba4",
   "metadata": {},
   "outputs": [
    {
     "name": "stdout",
     "output_type": "stream",
     "text": [
      "100\n",
      "50.6\n",
      "True\n",
      "<class 'str'>\n",
      "<class 'str'>\n",
      "<class 'str'>\n"
     ]
    }
   ],
   "source": [
    "integer_to_string =str(data_integer)\n",
    "float_to_string = str(data_float)\n",
    "bool_to_string = str(data_boolean)\n",
    "\n",
    "print(integer_to_string)\n",
    "print(float_to_string)\n",
    "print(bool_to_string)\n",
    "\n",
    "print(type(integer_to_string))\n",
    "print(type(float_to_string))\n",
    "print(type(bool_to_string))"
   ]
  },
  {
   "cell_type": "code",
   "execution_count": 17,
   "id": "4826099e",
   "metadata": {},
   "outputs": [
    {
     "name": "stdout",
     "output_type": "stream",
     "text": [
      "True\n",
      "True\n",
      "True\n",
      "<class 'bool'>\n",
      "<class 'bool'>\n",
      "<class 'bool'>\n"
     ]
    }
   ],
   "source": [
    "string_to_bool = bool(data_string)\n",
    "float_to_bool = bool(data_float)\n",
    "integer_to_bool = bool(data_integer)\n",
    "\n",
    "print(string_to_bool)\n",
    "print(float_to_bool)\n",
    "print(integer_to_bool)\n",
    "\n",
    "print(type(string_to_bool))\n",
    "print(type(float_to_bool))\n",
    "print(type(integer_to_bool))"
   ]
  },
  {
   "cell_type": "code",
   "execution_count": 14,
   "id": "bb56a68d",
   "metadata": {},
   "outputs": [
    {
     "name": "stdout",
     "output_type": "stream",
     "text": [
      "100\n",
      "50.6\n",
      "True\n",
      "<class 'str'>\n",
      "<class 'str'>\n",
      "<class 'str'>\n"
     ]
    }
   ],
   "source": [
    "integer_to_str = str(data_integer)\n",
    "float_to_str = str(data_float)\n",
    "bool_to_str = str(data_boolean)\n",
    "\n",
    "print(integer_to_str)\n",
    "print(float_to_str)\n",
    "print(bool_to_str)\n",
    "\n",
    "print(type(integer_to_str))\n",
    "print(type(float_to_str))\n",
    "print(type(bool_to_str))"
   ]
  }
 ],
 "metadata": {
  "kernelspec": {
   "display_name": "Python 3 (ipykernel)",
   "language": "python",
   "name": "python3"
  },
  "language_info": {
   "codemirror_mode": {
    "name": "ipython",
    "version": 3
   },
   "file_extension": ".py",
   "mimetype": "text/x-python",
   "name": "python",
   "nbconvert_exporter": "python",
   "pygments_lexer": "ipython3",
   "version": "3.9.12"
  }
 },
 "nbformat": 4,
 "nbformat_minor": 5
}
