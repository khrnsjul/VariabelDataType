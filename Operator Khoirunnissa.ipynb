{
 "cells": [
  {
   "cell_type": "markdown",
   "id": "b3921488",
   "metadata": {},
   "source": [
    "<h1>Operator Khoirunissa salsa Julianti</h1>"
   ]
  },
  {
   "cell_type": "code",
   "execution_count": 1,
   "id": "c351a4a2",
   "metadata": {},
   "outputs": [
    {
     "name": "stdout",
     "output_type": "stream",
     "text": [
      "27\n",
      "13\n",
      "140\n",
      "2.857142857142857\n",
      "2\n",
      "1280000000\n",
      "6\n"
     ]
    }
   ],
   "source": [
    "num1 = 20\n",
    "num2 = 7\n",
    "\n",
    "hasil_jumlah = num1 + num2\n",
    "hasil_kurang = num1 - num2\n",
    "hasil_kali = num1 * num2\n",
    "hasil_bagi = num1 / num2 \n",
    "hasil_bagi_bulat = num1 // num2\n",
    "hasil_pangkat = num1 ** num2 \n",
    "hasil_modulus = num1 % num2\n",
    "\n",
    "print(hasil_jumlah)\n",
    "print(hasil_kurang)\n",
    "print(hasil_kali)\n",
    "print(hasil_bagi)\n",
    "print(hasil_bagi_bulat)\n",
    "print(hasil_pangkat)\n",
    "print(hasil_modulus)\n"
   ]
  },
  {
   "cell_type": "code",
   "execution_count": 3,
   "id": "e19cda79",
   "metadata": {},
   "outputs": [
    {
     "name": "stdout",
     "output_type": "stream",
     "text": [
      "10\n",
      "15\n",
      "13\n",
      "39\n",
      "9.75\n",
      "9.0\n",
      "59049.0\n"
     ]
    }
   ],
   "source": [
    "x = 10\n",
    "print(x) #10\n",
    "x += 5 #x = x + 5\n",
    "print(x) #15\n",
    "x -= 2 #x = x - 2\n",
    "print(x) #13\n",
    "x *= 3 #x = x * 3\n",
    "print(x) #16\n",
    "x /= 4 #x = x / 4\n",
    "print(x) #12\n",
    "x //= 1 #x = x // 1\n",
    "print(x) #17\n",
    "x **=5 #x = ** 5\n",
    "print(x) #14\n",
    "x %= 2 #x = x % 2\n",
    "\n"
   ]
  },
  {
   "cell_type": "markdown",
   "id": "ed8cbb7d",
   "metadata": {},
   "source": [
    "<h1>Operator Bilangan</h1>"
   ]
  },
  {
   "cell_type": "code",
   "execution_count": 4,
   "id": "e5bc26ff",
   "metadata": {},
   "outputs": [
    {
     "name": "stdout",
     "output_type": "stream",
     "text": [
      "False\n",
      "True\n",
      "False\n",
      "True\n",
      "True\n",
      "True\n"
     ]
    }
   ],
   "source": [
    "y = 5\n",
    "z = 6\n",
    "\n",
    "print(y==z) #False\n",
    "print(y!=z) #True\n",
    "print(y>z) #False\n",
    "print(y<z) #True\n",
    "print(y>=5) #True\n",
    "print(z<=6) #True"
   ]
  },
  {
   "cell_type": "markdown",
   "id": "f4dc47ab",
   "metadata": {},
   "source": [
    "<h1>Operator Logika</h1>"
   ]
  },
  {
   "cell_type": "code",
   "execution_count": 7,
   "id": "e932b064",
   "metadata": {},
   "outputs": [
    {
     "name": "stdout",
     "output_type": "stream",
     "text": [
      "True\n",
      "False\n",
      "True\n"
     ]
    }
   ],
   "source": [
    "val1 = 10\n",
    "val2 = 5\n",
    "\n",
    "opr_and = val1 > val2 and val1 < 11 #True\n",
    "opr_or = val1 == 9 or val2 >5 #True\n",
    "opr_not = not (opr_and and opr_or) #False\n",
    "\n",
    "print(opr_and)\n",
    "print(opr_or)\n",
    "print(opr_not)"
   ]
  },
  {
   "cell_type": "markdown",
   "id": "85fa8ddd",
   "metadata": {},
   "source": [
    "<h1>Operator Identitas</h1>"
   ]
  },
  {
   "cell_type": "code",
   "execution_count": 9,
   "id": "daf30ea8",
   "metadata": {},
   "outputs": [
    {
     "name": "stdout",
     "output_type": "stream",
     "text": [
      "True\n",
      "False\n",
      "True\n",
      "False\n"
     ]
    }
   ],
   "source": [
    "fruits = [\"Apel\",\"Semangka\",\"Durian\"]\n",
    "fav_fruits = fruits\n",
    "your_fruits = [\"Apel\",\"Semangka\",\"Durian\"]\n",
    "name = \"Nisa\"\n",
    "your_name = \"Nisa\"\n",
    "\n",
    "print(fav_fruits is fruits)\n",
    "print(fruits is your_fruits)\n",
    "print(name is your_name)\n",
    "print(fav_fruits is not fruits)"
   ]
  },
  {
   "cell_type": "markdown",
   "id": "55493b3e",
   "metadata": {},
   "source": [
    "<h1>Operator Keanggotaan</h1>"
   ]
  },
  {
   "cell_type": "code",
   "execution_count": 10,
   "id": "7f53eb11",
   "metadata": {},
   "outputs": [
    {
     "name": "stdout",
     "output_type": "stream",
     "text": [
      "True\n",
      "True\n",
      "True\n",
      "False\n",
      "False\n"
     ]
    }
   ],
   "source": [
    "city = [\"jakarta\",\"bandung\",\"sukabumi\"]\n",
    "\n",
    "print(\"jakarta\" in city)\n",
    "print(\"bandung\" in city)\n",
    "print(\"sukabumi\" in city)\n",
    "print(\"Malang\" in city)\n",
    "print(\"jakarta\" in city and \"bandung\" not in city)"
   ]
  },
  {
   "cell_type": "markdown",
   "id": "ebbaad5c",
   "metadata": {},
   "source": [
    "<h1>Operasi Bitwise</h1>"
   ]
  },
  {
   "cell_type": "code",
   "execution_count": 12,
   "id": "cce7ab57",
   "metadata": {},
   "outputs": [
    {
     "name": "stdout",
     "output_type": "stream",
     "text": [
      "15\n",
      "255\n",
      "240\n",
      "256\n",
      "32\n"
     ]
    }
   ],
   "source": [
    "nilai1 =255\n",
    "nilai2 =15\n",
    "bit_and = nilai1 & nilai2\n",
    "bit_or = nilai1 | nilai2\n",
    "bit_xor = nilai1 ^ nilai2\n",
    "#11111111 =>255\n",
    "#00001111 =>15\n",
    "#------------ or\n",
    "#00001111 =>15\n",
    "#11111111 =>255\n",
    "#11110000 =>240\n",
    "\n",
    "print(bit_and)\n",
    "print(bit_or)\n",
    "print(bit_xor)\n",
    "\n",
    "# shift left\n",
    "print(128 << 1)\n",
    "# shift right\n",
    "print(128 >> 2)\n"
   ]
  }
 ],
 "metadata": {
  "kernelspec": {
   "display_name": "Python 3 (ipykernel)",
   "language": "python",
   "name": "python3"
  },
  "language_info": {
   "codemirror_mode": {
    "name": "ipython",
    "version": 3
   },
   "file_extension": ".py",
   "mimetype": "text/x-python",
   "name": "python",
   "nbconvert_exporter": "python",
   "pygments_lexer": "ipython3",
   "version": "3.9.12"
  }
 },
 "nbformat": 4,
 "nbformat_minor": 5
}
