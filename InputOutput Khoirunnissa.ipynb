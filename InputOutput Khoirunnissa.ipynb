{
 "cells": [
  {
   "cell_type": "code",
   "execution_count": 1,
   "id": "c6649256",
   "metadata": {},
   "outputs": [
    {
     "name": "stdout",
     "output_type": "stream",
     "text": [
      "Insert your first name:khoirunnissa\n",
      "Insert your middle name:salsa\n",
      "Insert your last name:julianti\n",
      "Hello  khoirunnissa salsa julianti !!\n"
     ]
    }
   ],
   "source": [
    "first_name = input('Insert your first name:')\n",
    "middle_name = input('Insert your middle name:')\n",
    "last_name = input('Insert your last name:')\n",
    "\n",
    "print(\"Hello \",first_name, middle_name, last_name, \"!!\")\n"
   ]
  },
  {
   "cell_type": "markdown",
   "id": "1438a648",
   "metadata": {},
   "source": [
    "<h1>Program Hitung Luas dan Keliling Persegi Panjang</h1>"
   ]
  },
  {
   "cell_type": "code",
   "execution_count": 9,
   "id": "b35c9479",
   "metadata": {},
   "outputs": [
    {
     "name": "stdout",
     "output_type": "stream",
     "text": [
      "Insert nilai panjang:10\n",
      "Insert nilai luas:20\n",
      "luas = 200\n",
      "keliling = 90\n"
     ]
    }
   ],
   "source": [
    "nilai_p = input('Insert nilai panjang:')\n",
    "nilai_l = input('Insert nilai luas:')\n",
    "\n",
    "luas = int(nilai_p) * int(nilai_l)\n",
    "keliling = 3* (int(nilai_p) + int(nilai_l))\n",
    "\n",
    "print(\"luas =\", luas)\n",
    "print(\"keliling =\", keliling)"
   ]
  },
  {
   "cell_type": "code",
   "execution_count": 8,
   "id": "cd33d098",
   "metadata": {},
   "outputs": [
    {
     "name": "stdout",
     "output_type": "stream",
     "text": [
      "masukan nilai sisi panjang: 5\n",
      "masukan nilai sisi lebar: 4\n",
      "luas persegi panjang: 20\n",
      "keliling persegi panjang: 18\n"
     ]
    }
   ],
   "source": [
    "#luas => p * l\n",
    "#keliling => 2 * (p+l) !\n",
    "\n",
    "panjang = input ('masukan nilai sisi panjang: ')\n",
    "lebar = input ('masukan nilai sisi lebar: ')\n",
    "\n",
    "luas = int(panjang) * int(lebar)\n",
    "keliling = 2 * (int(panjang) + int(lebar))\n",
    "\n",
    "print(\"luas persegi panjang:\", luas)\n",
    "print(\"keliling persegi panjang:\", keliling)"
   ]
  },
  {
   "cell_type": "markdown",
   "id": "7f5ff74b",
   "metadata": {},
   "source": [
    "<h1>Output</h1>"
   ]
  },
  {
   "cell_type": "code",
   "execution_count": 10,
   "id": "e7e3353e",
   "metadata": {},
   "outputs": [
    {
     "name": "stdout",
     "output_type": "stream",
     "text": [
      "8-Juli-2004\n",
      "6\n",
      "Desember\n",
      "2004\n",
      "10/Maret/2005\n"
     ]
    }
   ],
   "source": [
    "print(\"8\",\"Juli\",\"2004\",sep='-')\n",
    "print(\"6\",\"Desember\",\"2004\",sep='\\n')\n",
    "print(\"10\",\"Maret\",\"2005\",sep='/')"
   ]
  },
  {
   "cell_type": "code",
   "execution_count": 19,
   "id": "4b4feb00",
   "metadata": {},
   "outputs": [
    {
     "name": "stdout",
     "output_type": "stream",
     "text": [
      "1*3*5*7.\n",
      "1*****3*****5*****7.........."
     ]
    }
   ],
   "source": [
    "print(\"1\",\"3\",\"5\",\"7\",sep=\"*\",end=\".\" '\\n')\n",
    "print(\"1\",\"3\",\"5\",\"7\",sep=\"*\" * 5 ,end=\".\" * 10)"
   ]
  },
  {
   "cell_type": "markdown",
   "id": "f520f6d2",
   "metadata": {},
   "source": [
    "<h1>Memformat dengan Indeks</h1>\n"
   ]
  },
  {
   "cell_type": "code",
   "execution_count": 11,
   "id": "6d862f83",
   "metadata": {},
   "outputs": [
    {
     "name": "stdout",
     "output_type": "stream",
     "text": [
      "name of month January,February\n"
     ]
    }
   ],
   "source": [
    "month_1 =\"January\"\n",
    "month_2 =\"February\"\n",
    "month_3 =\"March\"\n",
    "\n",
    "print(\"name of month {0},{1}\".format(month_1, month_2))"
   ]
  },
  {
   "cell_type": "code",
   "execution_count": 18,
   "id": "ef7b45de",
   "metadata": {},
   "outputs": [
    {
     "name": "stdout",
     "output_type": "stream",
     "text": [
      "Nama Saya Khoirunisa Salsa.\n"
     ]
    }
   ],
   "source": [
    "print(\"Nama Saya {fname} {lname}.\".format(fname='Khoirunisa',lname='Salsa'))"
   ]
  },
  {
   "cell_type": "markdown",
   "id": "146c6587",
   "metadata": {},
   "source": [
    "<h1>Indeks dan String</h1>"
   ]
  },
  {
   "cell_type": "code",
   "execution_count": 14,
   "id": "02326384",
   "metadata": {},
   "outputs": [
    {
     "name": "stdout",
     "output_type": "stream",
     "text": [
      "U\n",
      "a\n",
      "Universitas\n",
      "\n",
      "Putra\n",
      "artuP asuN satisrevinU\n"
     ]
    }
   ],
   "source": [
    "kampus = \"Universitas Nusa Putra\"\n",
    "print(kampus[0]) #U\n",
    "print(kampus[-1]) #a\n",
    "\n",
    "#menggunakan range\n",
    "print(kampus[0:11])\n",
    "print(kampus[12:1])\n",
    "print(kampus[-5:])\n",
    "print(kampus[::-1])"
   ]
  },
  {
   "cell_type": "markdown",
   "id": "35a68add",
   "metadata": {},
   "source": [
    "<h1>Interpolasi Menggunakan String  </h1>\n"
   ]
  },
  {
   "cell_type": "code",
   "execution_count": 22,
   "id": "d9e71ef0",
   "metadata": {},
   "outputs": [
    {
     "name": "stdout",
     "output_type": "stream",
     "text": [
      "Luas Persegi = 200\n",
      "Keliling Persegi = 22\n"
     ]
    }
   ],
   "source": [
    "p = 10\n",
    "l = 20\n",
    "\n",
    "print(f'Luas Persegi = {l*p}')\n",
    "print(f'Keliling Persegi = {2*(p+1)}')"
   ]
  },
  {
   "cell_type": "markdown",
   "id": "ea53b179",
   "metadata": {},
   "source": [
    "<h1>Fungsi</h1>"
   ]
  },
  {
   "cell_type": "code",
   "execution_count": 24,
   "id": "ce3d7481",
   "metadata": {},
   "outputs": [
    {
     "name": "stdout",
     "output_type": "stream",
     "text": [
      "['Nissa', 'Rini', 'Zara']\n",
      "Nissa@Rini@Zara\n"
     ]
    }
   ],
   "source": [
    "student_name = \"Nissa,Rini,Zara\"\n",
    "\n",
    "print(nama_siswa.split(',')) #merubah dari sring ke list\n",
    "print('@'.join(student_name.split(','))) #merubah dari list ke string"
   ]
  },
  {
   "cell_type": "code",
   "execution_count": 29,
   "id": "92c88ae8",
   "metadata": {},
   "outputs": [
    {
     "name": "stdout",
     "output_type": "stream",
     "text": [
      "Insert your name :Khoirunnissa Salsa Julianti\n",
      "insert your birthday08/07/2004\n",
      "your name : Khoirunnissa Salsa Julianti\n",
      "date : 08\n",
      "month : 07\n",
      "year : 2004\n",
      "inisial : KS\n"
     ]
    }
   ],
   "source": [
    "name = input(\"Insert your name :\")\n",
    "birthday = input(\"insert your birthday\")\n",
    "\n",
    "birth = birthday.split('/')\n",
    "names = name.split()\n",
    "\n",
    "print(f\"your name : {name}\")\n",
    "print(f\"date : {birth[0]}\")\n",
    "print(f\"month : {birth[1]}\")\n",
    "print(f\"year : {birth[2]}\")\n",
    "print(f\"inisial : {names[0][0]}{names[1][0]}\")"
   ]
  }
 ],
 "metadata": {
  "kernelspec": {
   "display_name": "Python 3 (ipykernel)",
   "language": "python",
   "name": "python3"
  },
  "language_info": {
   "codemirror_mode": {
    "name": "ipython",
    "version": 3
   },
   "file_extension": ".py",
   "mimetype": "text/x-python",
   "name": "python",
   "nbconvert_exporter": "python",
   "pygments_lexer": "ipython3",
   "version": "3.9.12"
  }
 },
 "nbformat": 4,
 "nbformat_minor": 5
}
